{
  "cells": [
    {
      "cell_type": "markdown",
      "source": [
        "**DEMO FOR THE CASE OF TRANSFER LEARNING, PRETRAINED ON IMAGENET, USING RESNET-18**\n"
      ],
      "metadata": {
        "id": "RM40vHKrqzWn"
      },
      "id": "RM40vHKrqzWn"
    },
    {
      "cell_type": "markdown",
      "id": "fd2ab156",
      "metadata": {
        "id": "fd2ab156"
      },
      "source": [
        "### Import libraries"
      ]
    },
    {
      "cell_type": "code",
      "execution_count": null,
      "id": "c4184054",
      "metadata": {
        "id": "c4184054"
      },
      "outputs": [],
      "source": [
        "from PIL import Image\n",
        "from torch.utils.data import Dataset\n",
        "from sklearn.model_selection import train_test_split\n",
        "import torchvision.transforms as transforms\n",
        "from skimage import io\n",
        "from skimage import color\n",
        "from torchvision.datasets import ImageFolder\n",
        "from torch.utils.data import DataLoader\n",
        "import matplotlib.pyplot as plt\n",
        "import torchvision.models as models\n",
        "import torch\n",
        "import torchvision\n",
        "import torch.nn as nn\n",
        "import torch.optim as optim\n",
        "import pandas as pd\n",
        "import numpy as np\n",
        "from sklearn.preprocessing import LabelEncoder\n",
        "import os\n",
        "from skimage.io import imread\n",
        "from sklearn.metrics import confusion_matrix\n",
        "from sklearn.metrics import classification_report\n",
        "from sklearn.metrics import roc_curve\n",
        "from sklearn.metrics import roc_auc_score\n",
        "import matplotlib.pyplot as plt\n",
        "import seaborn as sns\n",
        "%matplotlib inline\n",
        "import pydicom as dicom\n",
        "import matplotlib\n",
        "font={'weight':'bold', 'size':11}\n",
        "matplotlib.rc('font', **font)"
      ]
    },
    {
      "cell_type": "markdown",
      "id": "c896f02a",
      "metadata": {
        "id": "c896f02a"
      },
      "source": [
        "### From Dicom to PNG"
      ]
    },
    {
      "cell_type": "code",
      "execution_count": null,
      "id": "2714e280",
      "metadata": {
        "id": "2714e280"
      },
      "outputs": [],
      "source": [
        "df= pd.read_csv('train.csv')\n",
        "df.columns=[\"ID\", \"Labels\"]"
      ]
    },
    {
      "cell_type": "code",
      "execution_count": null,
      "id": "185bc395",
      "metadata": {
        "id": "185bc395"
      },
      "outputs": [],
      "source": [
        "le = LabelEncoder()\n",
        "le.fit(df[\"Labels\"])\n",
        "le.classes_\n",
        "df[\"Labels\"]=le.transform(df[\"Labels\"])"
      ]
    },
    {
      "cell_type": "code",
      "execution_count": null,
      "id": "c3011dfc",
      "metadata": {
        "id": "c3011dfc"
      },
      "outputs": [],
      "source": [
        "#Atypical=0, Indeterminate= 1, Negative=2, Typical=3\n",
        "for i in os.listdir('RSNACOVID/train/'):\n",
        "    for j in os.listdir('RSNACOVID/train/'+i):\n",
        "        for k in os.listdir('RSNACOVID/train/'+i+'/'+j):\n",
        "            im= dicom.dcmread('RSNACOVID/train/'+i+'/'+j+'/'+k)\n",
        "            print('RSNACOVID/train/'+i+'/'+j+'/'+k)\n",
        "            im.PhotometricInterpretation = 'YBR_FULL'\n",
        "            im=im.pixel_array.astype(float)\n",
        "            rescaled_image=(np.maximum(im,0)/im.max())*255\n",
        "            final_image=np.uint8(rescaled_image)\n",
        "            final_image= Image.fromarray(final_image)\n",
        "            if int(df.loc[df['ID']==i+'_study']['Labels'])==2:\n",
        "                final_image.save('/home/shahad.hardan/Downloads/ML Pro Dataset/Negative/'+i+'.png')\n",
        "            elif int(df.loc[df['ID']==i+'_study']['Labels'])==0:\n",
        "                final_image.save('/home/shahad.hardan/Downloads/ML Pro Dataset/Atypical Appearance/'+i+'.png')\n",
        "            elif int(df.loc[df['ID']==i+'_study']['Labels'])==1:\n",
        "                final_image.save('/home/shahad.hardan/Downloads/ML Pro Dataset/Indeterminate/'+i+'.png')\n",
        "            elif int(df.loc[df['ID']==i+'_study']['Labels'])==3:\n",
        "                final_image.save('/home/shahad.hardan/Downloads/ML Pro Dataset/Typical Appearance/'+i+'.png')\n",
        "            "
      ]
    },
    {
      "cell_type": "markdown",
      "id": "c61b876a",
      "metadata": {
        "id": "c61b876a"
      },
      "source": [
        "###  Resize and transform to RGB"
      ]
    },
    {
      "cell_type": "code",
      "execution_count": null,
      "id": "4ab3fc71",
      "metadata": {
        "id": "4ab3fc71"
      },
      "outputs": [],
      "source": [
        "#Resize image Atypical Appearance \n",
        "for i in os.listdir('/home/shahad.hardan/Downloads/ML Pro Dataset/Atypical Appearance/'):\n",
        "    im = Image.open('/home/shahad.hardan/Downloads/ML Pro Dataset/Atypical Appearance/'+'/'+i)\n",
        "    new_im= im.resize((224,224))\n",
        "    new_im.save('/home/shahad.hardan/Downloads/COVID_resized 224/Atypical Appearance/'+i)"
      ]
    },
    {
      "cell_type": "code",
      "execution_count": null,
      "id": "eb55d764",
      "metadata": {
        "id": "eb55d764"
      },
      "outputs": [],
      "source": [
        "#Resize image Indeterminate \n",
        "for i in os.listdir('/home/shahad.hardan/Downloads/ML Pro Dataset/Indeterminate/'):\n",
        "    im = Image.open('/home/shahad.hardan/Downloads/ML Pro Dataset/Indeterminate/'+i)\n",
        "    new_im= im.resize((224,224))\n",
        "    new_im.save('/home/shahad.hardan/Downloads/COVID_resized 224/Indeterminate/'+i)\n",
        "    "
      ]
    },
    {
      "cell_type": "code",
      "execution_count": null,
      "id": "d8ecd069",
      "metadata": {
        "id": "d8ecd069"
      },
      "outputs": [],
      "source": [
        "#Resize image Negative\n",
        "for i in os.listdir('/home/shahad.hardan/Downloads/ML Pro Dataset/Negative/'):\n",
        "    im = Image.open('/home/shahad.hardan/Downloads/ML Pro Dataset/Negative/'+i)\n",
        "    new_im= im.resize((224,224))\n",
        "    new_im.save('/home/shahad.hardan/Downloads/COVID_resized 224/Negative /'+i)\n",
        "    "
      ]
    },
    {
      "cell_type": "code",
      "execution_count": null,
      "id": "0359878e",
      "metadata": {
        "id": "0359878e"
      },
      "outputs": [],
      "source": [
        "# # Resize image Typical Appearance\n",
        "\n",
        "for i in os.listdir('/home/shahad.hardan/Downloads/ML Pro Dataset/Typical Appearance/'):\n",
        "    im = Image.open('/home/shahad.hardan/Downloads/ML Pro Dataset/Typical Appearance/'+i)\n",
        "    new_im= im.resize((224,224))\n",
        "    new_im.save('/home/shahad.hardan/Downloads/COVID_resized 224/Typical Appearance/'+i)"
      ]
    },
    {
      "cell_type": "code",
      "execution_count": null,
      "id": "306f4ada",
      "metadata": {
        "scrolled": true,
        "id": "306f4ada"
      },
      "outputs": [],
      "source": [
        "#Transform gray scale atypical images to RGB \n",
        "path_org= '/home/shahad.hardan/Downloads/COVID_resized 224/Atypical Appearance/'\n",
        "for i in os.listdir(path_org):\n",
        "    image=io.imread(path_org+i)\n",
        "    path='/home/shahad.hardan/Downloads/COVID_RGB/Atypical/'\n",
        "    if len(image.shape)==3:\n",
        "        path = path + (i)\n",
        "        io.imsave(path, image)\n",
        "    elif len(image.shape)==2:\n",
        "        image=color.gray2rgb(image)\n",
        "        path = path + (i)\n",
        "        io.imsave(path, image)"
      ]
    },
    {
      "cell_type": "code",
      "execution_count": null,
      "id": "0f6fe312",
      "metadata": {
        "id": "0f6fe312"
      },
      "outputs": [],
      "source": [
        "#Transform gray scale typical images to RGB \n",
        "path_org= '/home/shahad.hardan/Downloads/COVID_resized 224/Typical Appearance/'\n",
        "for i in os.listdir(path_org):\n",
        "    image=io.imread(path_org+i)\n",
        "    path='/home/shahad.hardan/Downloads/COVID_RGB/Typical/'\n",
        "    if len(image.shape)==3:\n",
        "        path = path + (i)\n",
        "        io.imsave(path, image)\n",
        "    elif len(image.shape)==2:\n",
        "        image=color.gray2rgb(image)\n",
        "        path = path + (i)\n",
        "        io.imsave(path, image)"
      ]
    },
    {
      "cell_type": "code",
      "execution_count": null,
      "id": "8286b373",
      "metadata": {
        "id": "8286b373"
      },
      "outputs": [],
      "source": [
        "#Transform gray scale negative images to RGB \n",
        "path_org= '/home/shahad.hardan/Downloads/COVID_resized 224/Negative /'\n",
        "for i in os.listdir(path_org):\n",
        "    image=io.imread(path_org+i)\n",
        "    path='/home/shahad.hardan/Downloads/COVID_RGB/Negative/'\n",
        "    if len(image.shape)==3:\n",
        "        path = path + (i)\n",
        "        io.imsave(path, image)\n",
        "    elif len(image.shape)==2:\n",
        "        image=color.gray2rgb(image)\n",
        "        path = path + (i)\n",
        "        io.imsave(path, image)"
      ]
    },
    {
      "cell_type": "code",
      "execution_count": null,
      "id": "7a8af29d",
      "metadata": {
        "id": "7a8af29d"
      },
      "outputs": [],
      "source": [
        "\n",
        "#Transform gray scale indeterminate images to RGB \n",
        "path_org= '/home/shahad.hardan/Downloads/COVID_resized 224/Indeterminate/'\n",
        "for i in os.listdir(path_org):\n",
        "    image=io.imread(path_org+i)\n",
        "    path='/home/shahad.hardan/Downloads/COVID_RGB/Indeterminate/'\n",
        "    if len(image.shape)==3:\n",
        "        path = path + (i)\n",
        "        io.imsave(path, image)\n",
        "    elif len(image.shape)==2:\n",
        "        image=color.gray2rgb(image)\n",
        "        path = path + (i)\n",
        "        io.imsave(path, image)"
      ]
    },
    {
      "cell_type": "markdown",
      "id": "72c4f79f",
      "metadata": {
        "id": "72c4f79f"
      },
      "source": [
        "### Dataset Class"
      ]
    },
    {
      "cell_type": "code",
      "execution_count": null,
      "id": "09fae78f",
      "metadata": {
        "id": "09fae78f"
      },
      "outputs": [],
      "source": [
        "class CXRDataSet (Dataset):\n",
        "    \n",
        "    def __init__(self,dataset,band,transform=None):\n",
        "        self.dataset= self.checkchannels(dataset, band)\n",
        "        self.transform= transform\n",
        "        \n",
        "    def checkchannels(self, dataset, band):\n",
        "        \n",
        "        if band =='RGB':\n",
        "            datasetRGB=[]\n",
        "            for index in range(len(dataset)):\n",
        "                if Image.open(dataset[index][0]).getbands()==('R','G','B'):\n",
        "                    datasetRGB.append(dataset[index])\n",
        "            return datasetRGB\n",
        "        elif band =='L':\n",
        "            datasetG=[]\n",
        "            for index in range(len(dataset)):\n",
        "                if Image.open(dataset[index][0]).getbands()==('L',):\n",
        "                    datasetG.append(dataset[index])\n",
        "            return datasetG\n",
        "    \n",
        "    def croppingframe(self, index): # Custom transform\n",
        "        image= io.imread(self.dataset[index][0])\n",
        "        nonzero_pixels = image[np.nonzero(image)]\n",
        "        if nonzero_pixels.shape == (0,):\n",
        "            return image\n",
        "        min=np.array(np.nonzero(image)).min(axis=1)\n",
        "        max=np.array(np.nonzero(image)).max(axis=1)\n",
        "        return image[min[0]:max[0]+1,min[1]:max[1]+1]\n",
        "    \n",
        "    def __getitem__(self,index): # allows us to index our instance\n",
        "        \n",
        "        image= self.croppingframe(index)\n",
        "        image= Image.fromarray(image)\n",
        "        y_label=torch.tensor(self.dataset[index][1])\n",
        "        if self.transform:\n",
        "            return self.transform(image), y_label\n",
        "        \n",
        "        return image,y_label \n",
        "    \n",
        "    def __len__(self):\n",
        "        return len(self.dataset)\n",
        "    "
      ]
    },
    {
      "cell_type": "markdown",
      "id": "9c618562",
      "metadata": {
        "id": "9c618562"
      },
      "source": [
        "### Load the paths of the images"
      ]
    },
    {
      "cell_type": "code",
      "execution_count": null,
      "id": "66ed9ef2",
      "metadata": {
        "id": "66ed9ef2",
        "outputId": "3eb36ac1-43bb-48a3-c3b7-6f58f41f1c25"
      },
      "outputs": [
        {
          "name": "stdout",
          "output_type": "stream",
          "text": [
            "Total number of datapoints: 6053\n",
            "---------------------------\n",
            "Dataset classes: ['Atypical', 'Indeterminate', 'Negative', 'Typical']\n"
          ]
        }
      ],
      "source": [
        "path_to_rgbdata='COVID_RGB'\n",
        "data= ImageFolder(path_to_rgbdata)\n",
        "\n",
        "#print(data) \n",
        "print('Total number of datapoints:', len(data.imgs))\n",
        "# shows the number of datapoints and root location\n",
        "print('---------------------------')\n",
        "# list of tuples, each of which contains the image path and its label \n",
        "\n",
        "print(\"Dataset classes:\", data.classes) \n",
        "# the name of the classes [Normal , covid, ..]"
      ]
    },
    {
      "cell_type": "markdown",
      "id": "7ea495d4",
      "metadata": {
        "id": "7ea495d4"
      },
      "source": [
        "### Histogram of classes"
      ]
    },
    {
      "cell_type": "code",
      "execution_count": null,
      "id": "bcf5ea4a",
      "metadata": {
        "id": "bcf5ea4a",
        "outputId": "05c7c447-9fb4-49d0-b4d6-f1f254e20611"
      },
      "outputs": [
        {
          "name": "stdout",
          "output_type": "stream",
          "text": [
            "[474, 1049, 1676, 2854] ['Atypical', 'Indeterminate', 'Negative', 'Typical']\n"
          ]
        },
        {
          "data": {
            "image/png": "[encoded data removed]",
            "text/plain": [
              "<Figure size 432x288 with 1 Axes>"
            ]
          },
          "metadata": {
            "needs_background": "light"
          },
          "output_type": "display_data"
        }
      ],
      "source": [
        "# Show imbalance in dataset\n",
        "counter= [ data.targets.count(l) for l in set(data.targets)]\n",
        "labels = data.classes\n",
        "print(counter,labels)\n",
        "plt.bar(labels,counter, width=0.2)\n",
        "plt.xlabel(\"Class\", fontsize=14, fontweight='bold')\n",
        "plt.ylabel(\"No. of Images\", fontsize=14, fontweight='bold')\n",
        "plt.title(\"Distribution of Classes\", fontsize=14, fontweight='bold')\n",
        "plt.show()"
      ]
    },
    {
      "cell_type": "markdown",
      "id": "a4a7f8ac",
      "metadata": {
        "id": "a4a7f8ac"
      },
      "source": [
        "### Splitting the data"
      ]
    },
    {
      "cell_type": "code",
      "execution_count": null,
      "id": "e451c048",
      "metadata": {
        "id": "e451c048"
      },
      "outputs": [],
      "source": [
        "# Split dataset into train test sets:\n",
        "trainData,testData,trainLabel,testLabel=train_test_split(data.imgs,data.targets,\n",
        "                                                        test_size=0.1,\n",
        "                                                         random_state=0, stratify=data.targets)\n",
        "\n",
        "\"\"\"\n",
        "Setting the random_state is desirable for reproducibility.\n",
        "\n",
        "This stratify parameter makes a split so that the proportion of values\n",
        "in the sample produced will be the same as the proportion of values provided\n",
        "to parameter stratify.\n",
        "\n",
        "For example, if variable y is a binary categorical variable with \n",
        "values 0 and 1 and there are 25% of zeros and 75% of ones, stratify=y\n",
        "will make sure that your random split has 25% of 0's and 75% of 1's.\n",
        "\n",
        "\n",
        "\"\"\";\n",
        "\n",
        "#print(type(trainData[0][1]))\n",
        "# print(testData) # Notice it contains the labels as well!\n",
        "#we'll not use trainLabel, testLabel"
      ]
    },
    {
      "cell_type": "markdown",
      "id": "19af2427",
      "metadata": {
        "id": "19af2427"
      },
      "source": [
        "### Evaluate mean & std of the training set images"
      ]
    },
    {
      "cell_type": "code",
      "execution_count": null,
      "id": "e618626b",
      "metadata": {
        "id": "e618626b"
      },
      "outputs": [],
      "source": [
        "# Evaluate mean and std of images:\n",
        "# mean and std are dependent on image size.\n",
        "Data_transforms= transforms.Compose([transforms.Resize((224,224)),\n",
        "                                     transforms.ToTensor()])\n",
        "\n",
        "CXR_dataset= CXRDataSet(trainData,'RGB',\n",
        "                        transform=Data_transforms)\n",
        "\n",
        "CXR_loader= torch.utils.data.DataLoader(CXR_dataset,\n",
        "                                        batch_size=32,num_workers=4 ,shuffle= False)\n",
        "\n",
        "def get_mean_and_std(loader):\n",
        "    mean=0.\n",
        "    std=0.\n",
        "    Total_images_count= 0.\n",
        "    for images,_ in loader:\n",
        "        Total_images_count += images.size(0)\n",
        "        # or you can use images.shape[0]\n",
        "        #print(images.shape) B xC X H X W\n",
        "        images= images.view(images.size(0), images.size(1),-1)\n",
        "        # print(images.shape) B x C x (H*W)\n",
        "        mean+= images.mean(2).sum(0)\n",
        "        # find the mean of each channel\n",
        "        #in all images of the batch, axis=2\n",
        "        # sum the means of corresponding \n",
        "        # channels of the batch images, axis=0\n",
        "        std+= images.std(2).sum(0)\n",
        "    \n",
        "    mean/= Total_images_count\n",
        "    std/=Total_images_count\n",
        "    \n",
        "    return mean, std\n",
        "\n",
        "\n",
        "mean, std = get_mean_and_std(CXR_loader)"
      ]
    },
    {
      "cell_type": "code",
      "execution_count": null,
      "id": "eae69006",
      "metadata": {
        "id": "eae69006",
        "outputId": "fbe8f5e4-9f51-406d-edba-023913b9eb4a"
      },
      "outputs": [
        {
          "data": {
            "text/plain": [
              "(tensor([0.5388, 0.5388, 0.5388]), tensor([0.1938, 0.1938, 0.1938]))"
            ]
          },
          "execution_count": 7,
          "metadata": {},
          "output_type": "execute_result"
        }
      ],
      "source": [
        "mean,std"
      ]
    },
    {
      "cell_type": "markdown",
      "id": "aa3b16f7",
      "metadata": {
        "id": "aa3b16f7"
      },
      "source": [
        "### Image Transformations and loading the images"
      ]
    },
    {
      "cell_type": "code",
      "execution_count": null,
      "id": "a2200694",
      "metadata": {
        "id": "a2200694",
        "outputId": "2b1d48f6-4ca5-40ce-8745-9f366c671dc0"
      },
      "outputs": [
        {
          "name": "stdout",
          "output_type": "stream",
          "text": [
            "Size of train dataset:  5447\n",
            "Size of test dataset:  606\n"
          ]
        }
      ],
      "source": [
        "train_data_transforms= transforms.Compose([\n",
        "    transforms.Resize((224,224)),\n",
        "    transforms.RandomRotation(20),\n",
        "    transforms.RandomHorizontalFlip(p=0.5),\n",
        "    transforms.ToTensor(),\n",
        "    transforms.Normalize(torch.Tensor(mean), torch.Tensor(std))\n",
        "])\n",
        "\n",
        "\n",
        "test_data_transforms= transforms.Compose([\n",
        "    transforms.Resize((224,224)),\n",
        "    transforms.ToTensor(),\n",
        "    transforms.Normalize(torch.Tensor(mean), torch.Tensor(std))\n",
        "])\n",
        "\n",
        "\n",
        "\n",
        "train_set= CXRDataSet(trainData,'RGB',\n",
        "                        transform=train_data_transforms)\n",
        "test_set=CXRDataSet(testData,'RGB',\n",
        "                        transform=test_data_transforms) \n",
        "\n",
        "\n",
        "print(\"Size of train dataset: \", len(train_set))\n",
        "print(\"Size of test dataset: \",len(test_set))\n"
      ]
    },
    {
      "cell_type": "code",
      "execution_count": null,
      "id": "92573fb0",
      "metadata": {
        "id": "92573fb0"
      },
      "outputs": [],
      "source": [
        "batch_size = 16 \n",
        "\n",
        "train_loader= DataLoader(dataset= train_set,\n",
        "                         batch_size= batch_size,\n",
        "                         shuffle =True,\n",
        "                         num_workers = 8)\n",
        "test_loader= DataLoader(dataset= test_set,\n",
        "                        batch_size= batch_size,\n",
        "                        shuffle =False, \n",
        "                        num_workers = 8)\n",
        "\"\"\"\n",
        "DataLoader returns a Python iterable over \n",
        "a dataset, with support for automatic batching\n",
        "and more other features\n",
        "\n",
        "Parameters: \n",
        "dataset (Dataset) – dataset from which to load the data.\n",
        "\n",
        "batch_size (int, optional) – how many samples per batch to\n",
        "load (default: 1).\n",
        "\n",
        "shuffle (bool, optional) – set to True to have the data \n",
        "reshuffled at every epoch (default: False).\n",
        "\n",
        "\"\"\";"
      ]
    },
    {
      "cell_type": "markdown",
      "id": "f13b04a0",
      "metadata": {
        "id": "f13b04a0"
      },
      "source": [
        "### Show transformed Images"
      ]
    },
    {
      "cell_type": "code",
      "execution_count": null,
      "id": "15f3d481",
      "metadata": {
        "id": "15f3d481",
        "outputId": "dc3035b8-04ee-49f8-9639-02064c6fe985"
      },
      "outputs": [
        {
          "data": {
            "image/png": "[encoded data removed]",
            "text/plain": [
              "<Figure size 504x360 with 6 Axes>"
            ]
          },
          "metadata": {},
          "output_type": "display_data"
        }
      ],
      "source": [
        "def show_transformed_images(dataset):\n",
        "    \n",
        "    loader= torch.utils.data.DataLoader(dataset, batch_size=6, shuffle=True)\n",
        "    batch= next(iter(loader))\n",
        "    images, labels= batch\n",
        "    #print(images.shape) # BxCxWxH\n",
        "    images = images.numpy().transpose((0,2, 3, 1)) \n",
        "    # convert the images from torch to numpy and transpose\n",
        "    #print(images.shape)# BxWxHxC\n",
        "    mean_arr = np.array(mean)\n",
        "    std_arr = np.array(std)\n",
        "    images = std_arr * images + mean_arr\n",
        "    # When we normalize our data, it gets shifted, such that \n",
        "    # its mean becomes 0 and std. dev. of 1 i.e. the data will have negative portion. \n",
        "    images = np.clip(images, 0, 1)\n",
        "    fig, axes = plt.subplots(2, 3, figsize=(7, 5),\n",
        "                         subplot_kw={'xticks':[], 'yticks':[]},\n",
        "                         gridspec_kw=dict(hspace=0.1, wspace=0.05))\n",
        "    for i, ax in enumerate(axes.flat):\n",
        "        ax.imshow(images[i], cmap='gray')\n",
        "        ax.set_xlabel('Label: {}'.format(data.classes[labels[i]]),fontsize=10, fontweight='bold' )\n",
        "        \n",
        "\n",
        "\n",
        "    \"\"\"\n",
        "    numpy.clip() function is used to Clip (limit) the values in an array.\n",
        "\n",
        "    Given an interval, values outside the interval are clipped to the interval edges.\n",
        "    For example, if an interval of [0, 1] is specified, values smaller than 0 become 0,\n",
        "    and values larger than 1 become 1.\n",
        "    \n",
        "    Reference : https://www.geeksforgeeks.org/numpy-clip-in-python/\n",
        "    \"\"\";\n",
        "show_transformed_images(train_set)"
      ]
    },
    {
      "cell_type": "markdown",
      "id": "aa22a2b8",
      "metadata": {
        "id": "aa22a2b8"
      },
      "source": [
        "## Training and Testing phases"
      ]
    },
    {
      "cell_type": "markdown",
      "id": "b30db96b",
      "metadata": {
        "id": "b30db96b"
      },
      "source": [
        "##### Set device: "
      ]
    },
    {
      "cell_type": "code",
      "execution_count": null,
      "id": "ee06d331",
      "metadata": {
        "id": "ee06d331",
        "outputId": "5b4049bc-806f-4133-eddc-4e44c8a2c479"
      },
      "outputs": [
        {
          "data": {
            "text/plain": [
              "True"
            ]
          },
          "execution_count": 8,
          "metadata": {},
          "output_type": "execute_result"
        }
      ],
      "source": [
        "device = torch.device(\"cuda:0\" if torch.cuda.is_available() else \"cpu\")\n",
        "torch.cuda.is_available()"
      ]
    },
    {
      "cell_type": "markdown",
      "id": "e7ad52f0",
      "metadata": {
        "id": "e7ad52f0"
      },
      "source": [
        "##### Train neural network function"
      ]
    },
    {
      "cell_type": "code",
      "execution_count": null,
      "id": "528cd335",
      "metadata": {
        "id": "528cd335"
      },
      "outputs": [],
      "source": [
        "\n",
        "def train_nn (model,train_loader,test_loader,loss_func_train,loss_func_test, optimizer,epochs,modelname):\n",
        "    best_val_acc=0\n",
        "    train_loss =[]\n",
        "    test_loss=[]\n",
        "    checkpoint_path=f'{modelname}.pth'\n",
        "\n",
        "    for epoch in range(epochs):\n",
        "        \n",
        "        print(f'Epoch number {epoch}')\n",
        "        # set the model to training mode:\n",
        "        model.train()\n",
        "        running_loss=0.0\n",
        "        running_correct= 0.0\n",
        "        total= 0\n",
        "\n",
        "        \n",
        "        for batch in train_loader:\n",
        "            images,labels= batch\n",
        "            images=images.to(device)\n",
        "            labels= labels.to(device)\n",
        "            total+= labels.size(0) # get integer value\n",
        "            \n",
        "            optimizer.zero_grad()\n",
        "            \n",
        "            outputs= model(images)\n",
        "            _,predicted = torch.max(outputs.data,1)\n",
        "            \n",
        "            \n",
        "            loss= loss_func_train(outputs, labels)\n",
        "            # label is a single value, output is a vector\n",
        "            loss.backward()\n",
        "            \n",
        "            optimizer.step()\n",
        "            \n",
        "            running_loss+= loss.item() * labels.size(0)\n",
        "            running_correct+= (labels==predicted).sum().item()\n",
        "        \n",
        "        epoch_loss= running_loss/total\n",
        "        epoch_acc= (running_correct/total)*100\n",
        "        \n",
        "        train_loss.append(epoch_loss)\n",
        "        print(f'Train: {epoch_acc}% of the images classified correctly. Epoch loss= {epoch_loss}')\n",
        "    \n",
        "        test_labels, pred_cls, pred_proba,t_loss, epoch_val_acc= test_model(model,test_loader,loss_func_test)\n",
        "        \n",
        "        test_loss.append(t_loss)\n",
        "\n",
        "        if epoch_val_acc > best_val_acc:\n",
        "              best_val_acc = epoch_val_acc\n",
        "            #  save_checkpoint(model, optimizer,epoch,best_val_acc, modelname)\n",
        "              torch.save(model.state_dict(), checkpoint_path)\n",
        "\n",
        "    \n",
        "    \n",
        "    print('Done with training and testing..')\n",
        "    return model,test_labels, pred_cls, pred_proba, train_loss, test_loss\n",
        "        "
      ]
    },
    {
      "cell_type": "markdown",
      "id": "fa1be3bb",
      "metadata": {
        "id": "fa1be3bb"
      },
      "source": [
        "#####  Test model function"
      ]
    },
    {
      "cell_type": "code",
      "execution_count": null,
      "id": "a26537ca",
      "metadata": {
        "id": "a26537ca"
      },
      "outputs": [],
      "source": [
        "def test_model(model,test_loader,loss_func_test):\n",
        "    \n",
        "    model.eval()\n",
        "    predicted_correctly=0\n",
        "    total=0\n",
        "    test_running_loss=0\n",
        "    t_loss= 0.0\n",
        "    # Variables defined for post-training analysis\n",
        "    test_labels=[]\n",
        "    pred_cls=[]\n",
        "    pred_proba=[]\n",
        "    with torch.no_grad():\n",
        "        for batch in test_loader:\n",
        "            images, labels = batch\n",
        "            images=images.to(device)\n",
        "            labels= labels.to(device)\n",
        "            total += labels.size(0) # get integer value\n",
        "            \n",
        "            test_labels.append(labels)\n",
        "            outputs= model(images)\n",
        "            pred_proba.append(outputs)\n",
        "            \n",
        "            loss = loss_func_test(outputs, labels)\n",
        "            _, predicted = torch.max(outputs,1)\n",
        "            \n",
        "            \n",
        "            pred_cls.append(predicted)\n",
        "            \n",
        "            predicted_correctly+= (predicted==labels).sum().item()\n",
        "            test_running_loss+= loss.item() * labels.size(0)\n",
        "            \n",
        "    \n",
        "    test_acc= (predicted_correctly/total)*100\n",
        "    t_loss = test_running_loss/total\n",
        "    \n",
        "    \n",
        "    print(f'Test: {test_acc}% of the images are classified correctly. Epoch loss = {t_loss}')\n",
        "    \n",
        "    return test_labels, pred_cls, pred_proba, t_loss, test_acc\n",
        "    "
      ]
    },
    {
      "cell_type": "markdown",
      "id": "b8bdf367",
      "metadata": {
        "id": "b8bdf367"
      },
      "source": [
        "#####  Computing class weights function"
      ]
    },
    {
      "cell_type": "code",
      "execution_count": null,
      "id": "450fe560",
      "metadata": {
        "id": "450fe560"
      },
      "outputs": [],
      "source": [
        "from sklearn.utils import class_weight\n",
        "\n",
        "def calculate_cls_weight(trainData):\n",
        "    \n",
        "    labels=[]\n",
        "    \n",
        "    for _,label in trainData:\n",
        "        labels.append(label)\n",
        "    \n",
        "    class_weights=class_weight.compute_class_weight('balanced',classes= np.unique(labels),y= np.array(labels))\n",
        "    class_weights=torch.tensor(class_weights,dtype=torch.float, device= device)\n",
        "    \n",
        "    print('class weights:',class_weights)\n",
        "    return class_weights"
      ]
    },
    {
      "cell_type": "markdown",
      "id": "ec2a3351",
      "metadata": {
        "id": "ec2a3351"
      },
      "source": [
        "## Analysis"
      ]
    },
    {
      "cell_type": "code",
      "execution_count": null,
      "id": "ac4246ce",
      "metadata": {
        "id": "ac4246ce"
      },
      "outputs": [],
      "source": [
        "def eval_best_model (model, model_path,n_classes ,loss_func_test,device, band= 'RGB'):\n",
        "    \n",
        "    if model == 'resnet18':\n",
        "        best_model = models.resnet18()\n",
        "        input_ftrs = best_model.fc.in_features\n",
        "        best_model.fc= nn.Linear(input_ftrs, n_classes)\n",
        "        if band =='L':\n",
        "            best_model.conv1=nn.Conv2d(1,64,kernel_size=7,stride=2,padding=3,bias=False)\n",
        "            \n",
        "    elif model == 'densenet121':\n",
        "        best_model = models.densenet121()\n",
        "        input_ftrs = best_model.classifier.in_features\n",
        "        best_model.classifier= nn.Linear(input_ftrs, n_classes)\n",
        "        if band=='L':\n",
        "            best_model.features.conv0=nn.Conv2d(1, 64, kernel_size=7, stride=2,padding=3, bias=False)\n",
        "            \n",
        "    ckpt=torch.load(model_path)\n",
        "    best_model.load_state_dict(ckpt)\n",
        "    best_model= best_model.to(device)\n",
        "    test_labels, pred_cls, pred_proba, t_loss, test_acc =test_model(best_model,test_loader,loss_func_test)\n",
        "    return  test_labels, pred_cls, pred_proba, t_loss, test_acc"
      ]
    },
    {
      "cell_type": "code",
      "execution_count": null,
      "id": "782dbfff",
      "metadata": {
        "id": "782dbfff"
      },
      "outputs": [],
      "source": [
        "def conf_mtrx (test_labels,pred_cls):\n",
        "    \n",
        "    test_labels= torch.cat(test_labels).to('cpu')# cat= concatenate\n",
        "    pred_cls= torch.cat(pred_cls).to('cpu')\n",
        "    \n",
        "    conf_matrx = confusion_matrix(test_labels,pred_cls)\n",
        "    \n",
        "    class_names = data.classes\n",
        "    fig, ax = plt.subplots()\n",
        "    tick_marks = np.arange(len(class_names))\n",
        "    plt.xticks(tick_marks, class_names)\n",
        "    plt.yticks(tick_marks, class_names)\n",
        "\n",
        "    # create heatmap\n",
        "    sns.heatmap(pd.DataFrame(conf_matrx), annot=True, cmap=\"YlGnBu\" ,fmt='g')\n",
        "    ax.xaxis.set_label_position(\"top\")\n",
        "    plt.tight_layout()\n",
        "    #You can change the position of the title by providing \n",
        "    # a value for the y parameter \n",
        "    plt.title('Confusion matrix [0:Atypical, 1:Indeterminate, 2:Negative, 3:Typical]', y=1.2,fontsize=14, fontweight='bold')\n",
        "    plt.ylabel('Actual Label', fontsize=14, fontweight='bold')\n",
        "    plt.xlabel('Predicted Label',fontsize=14, fontweight='bold') "
      ]
    },
    {
      "cell_type": "code",
      "execution_count": null,
      "id": "3d979acf",
      "metadata": {
        "id": "3d979acf"
      },
      "outputs": [],
      "source": [
        "def ROC_plot_AUC_score (test_labels,pred_proba,n_classes):\n",
        "    test_labels= torch.cat(test_labels).to('cpu')# cat= concatenate\n",
        "    pred_proba= torch.cat(pred_proba, dim=0).to('cpu')\n",
        "    \n",
        "    soft_func = nn.Softmax(dim=1)\n",
        "    pred_proba= soft_func(pred_proba)\n",
        "\n",
        "    fpr = {} # False postive rate x-axis\n",
        "    tpr = {} # True positive rate y-axis\n",
        "    thresh ={}\n",
        "    auc_scores = []\n",
        "    one_vs_all_labels=[]\n",
        "    \n",
        "    for i in range(n_classes):\n",
        "        one_vs_all_labels.append((test_labels== i).numpy().astype('int'))   \n",
        "    \n",
        "    \n",
        "    for i in range(n_classes):    \n",
        "        fpr[i], tpr[i], thresh[i] = roc_curve(one_vs_all_labels[i], pred_proba[:,i], pos_label=1)\n",
        "        auc_scores.append(roc_auc_score(one_vs_all_labels[i], pred_proba[:,i]))\n",
        "    \n",
        "\n",
        "    for i in range(n_classes):\n",
        "\n",
        "        plt.plot(fpr[i], tpr[i], linestyle='--', label=f'Class {data.classes[i]} vs Rest')  \n",
        "\n",
        "    plt.title('Multiclass ROC Curve',fontsize=14, fontweight='bold')\n",
        "    plt.xlabel('False Positive Rate',fontsize=14, fontweight='bold')\n",
        "    plt.ylabel('True Positive Rate',fontsize=14, fontweight='bold')\n",
        "    plt.legend(loc='best')\n",
        "    \n",
        "# Display AUC scores\n",
        "    \n",
        "    for i in range(n_classes):\n",
        "        print(f'AUC score of Class {data.classes[i]} vs Rest ===>',auc_scores[i] )\n"
      ]
    },
    {
      "cell_type": "code",
      "execution_count": null,
      "id": "5f5786ef",
      "metadata": {
        "id": "5f5786ef"
      },
      "outputs": [],
      "source": [
        "target_names = data.classes \n",
        "\n",
        "def evaluate_metrics (test_labels,pred_cls, target_names):\n",
        "\n",
        "    test_labels= torch.cat(test_labels).to('cpu')# cat= concatenate\n",
        "    pred_cls= torch.cat(pred_cls).to('cpu')\n",
        "    \n",
        "    print(classification_report(test_labels,pred_cls, target_names=target_names))"
      ]
    },
    {
      "cell_type": "code",
      "execution_count": null,
      "id": "01c1fbac",
      "metadata": {
        "id": "01c1fbac"
      },
      "outputs": [],
      "source": [
        "def plot_learning_curve(x_epoch, train_loss, test_loss):\n",
        "    \n",
        "    \n",
        "    print('test_loss:',test_loss)\n",
        "    x_epoch= np.arange(x_epoch)\n",
        "    plt.plot(x_epoch, train_loss, linestyle='--', label='Train loss')\n",
        "    plt.plot(x_epoch, test_loss, linestyle='--', label='Test loss')\n",
        "\n",
        "    \n",
        "    plt.title('Learning Curve- loss against epochs plot',fontsize=14, fontweight='bold')\n",
        "    plt.xlabel('Epochs', fontsize=14, fontweight='bold')\n",
        "    plt.ylabel('Loss',fontsize=14, fontweight='bold')\n",
        "    plt.legend(loc='best')\n",
        "    plt.show()\n",
        "    "
      ]
    },
    {
      "cell_type": "markdown",
      "id": "6537d874",
      "metadata": {
        "id": "6537d874"
      },
      "source": [
        "## Transfer Learning"
      ]
    },
    {
      "cell_type": "markdown",
      "id": "9c126e03",
      "metadata": {
        "id": "9c126e03"
      },
      "source": [
        "##### 1 Pretrained with ImageNet, Finetuned with CXR dataset. Model: resnet18"
      ]
    },
    {
      "cell_type": "code",
      "execution_count": null,
      "id": "73435d69",
      "metadata": {
        "id": "73435d69"
      },
      "outputs": [],
      "source": [
        "seed = 1997\n",
        "torch.cuda.manual_seed_all(seed)"
      ]
    },
    {
      "cell_type": "code",
      "execution_count": null,
      "id": "00870938",
      "metadata": {
        "id": "00870938",
        "outputId": "286e0f38-381a-4cf3-b2d0-c9eb2a167ab2"
      },
      "outputs": [
        {
          "name": "stdout",
          "output_type": "stream",
          "text": [
            "class weights: tensor([3.1891, 1.4425, 0.9030, 0.5303], device='cuda:0')\n",
            "Epoch number 0\n",
            "Train: 40.389205067009364% of the images classified correctly. Epoch loss= 1.394714739840469\n",
            "Test: 27.22772277227723% of the images are classified correctly. Epoch loss = 1.8403727465336865\n",
            "Epoch number 1\n",
            "Train: 45.89682393978337% of the images classified correctly. Epoch loss= 1.345374055952244\n",
            "Test: 53.46534653465347% of the images are classified correctly. Epoch loss = 1.1355920853001056\n",
            "Epoch number 2\n",
            "Train: 47.60418579034331% of the images classified correctly. Epoch loss= 1.293935408324348\n",
            "Test: 34.98349834983499% of the images are classified correctly. Epoch loss = 1.3547494242293607\n",
            "Epoch number 3\n",
            "Train: 50.17440793097118% of the images classified correctly. Epoch loss= 1.263968529735374\n",
            "Test: 50.165016501650165% of the images are classified correctly. Epoch loss = 1.1929136699575795\n",
            "Epoch number 4\n",
            "Train: 51.845052322379296% of the images classified correctly. Epoch loss= 1.2590644453038902\n",
            "Test: 52.97029702970298% of the images are classified correctly. Epoch loss = 1.1773378553957041\n",
            "Epoch number 5\n",
            "Train: 52.37745548008078% of the images classified correctly. Epoch loss= 1.2578939718129505\n",
            "Test: 58.25082508250825% of the images are classified correctly. Epoch loss = 1.1204020170488767\n",
            "Epoch number 6\n",
            "Train: 52.946576096934095% of the images classified correctly. Epoch loss= 1.2423723103563697\n",
            "Test: 47.85478547854785% of the images are classified correctly. Epoch loss = 1.2354716774654073\n",
            "Epoch number 7\n",
            "Train: 51.386084082981455% of the images classified correctly. Epoch loss= 1.2361872498214803\n",
            "Test: 47.02970297029702% of the images are classified correctly. Epoch loss = 1.2271187624128739\n",
            "Epoch number 8\n",
            "Train: 52.23058564347347% of the images classified correctly. Epoch loss= 1.2336947114528463\n",
            "Test: 58.91089108910891% of the images are classified correctly. Epoch loss = 1.0624218579172695\n",
            "Epoch number 9\n",
            "Train: 53.97466495318524% of the images classified correctly. Epoch loss= 1.2174668399395145\n",
            "Test: 61.88118811881188% of the images are classified correctly. Epoch loss = 1.0144223848191818\n",
            "Epoch number 10\n",
            "Train: 54.286763355975765% of the images classified correctly. Epoch loss= 1.2070510144931408\n",
            "Test: 56.930693069306926% of the images are classified correctly. Epoch loss = 1.0788806535229825\n",
            "Epoch number 11\n",
            "Train: 54.378557003855335% of the images classified correctly. Epoch loss= 1.1943097717503308\n",
            "Test: 57.0957095709571% of the images are classified correctly. Epoch loss = 1.0800989209228615\n",
            "Epoch number 12\n",
            "Train: 54.56214429961447% of the images classified correctly. Epoch loss= 1.1907737095771371\n",
            "Test: 57.0957095709571% of the images are classified correctly. Epoch loss = 1.0589621110324419\n",
            "Epoch number 13\n",
            "Train: 55.25977602349917% of the images classified correctly. Epoch loss= 1.1955718591669753\n",
            "Test: 54.12541254125413% of the images are classified correctly. Epoch loss = 1.1081082352710636\n",
            "Epoch number 14\n",
            "Train: 55.44336331925831% of the images classified correctly. Epoch loss= 1.1883235418273481\n",
            "Test: 60.23102310231023% of the images are classified correctly. Epoch loss = 1.0081675430335622\n",
            "Epoch number 15\n",
            "Train: 55.62695061501744% of the images classified correctly. Epoch loss= 1.1753650206873476\n",
            "Test: 57.26072607260726% of the images are classified correctly. Epoch loss = 1.0524783787554246\n",
            "Epoch number 16\n",
            "Train: 55.82889664035249% of the images classified correctly. Epoch loss= 1.177319596442735\n",
            "Test: 57.755775577557756% of the images are classified correctly. Epoch loss = 1.0673946091050754\n",
            "Epoch number 17\n",
            "Train: 55.094547457315954% of the images classified correctly. Epoch loss= 1.169538943531624\n",
            "Test: 58.745874587458744% of the images are classified correctly. Epoch loss = 1.0407731576327837\n",
            "Epoch number 18\n",
            "Train: 56.54488709381311% of the images classified correctly. Epoch loss= 1.161422685568368\n",
            "Test: 56.930693069306926% of the images are classified correctly. Epoch loss = 1.0899014626399126\n",
            "Epoch number 19\n",
            "Train: 56.25114742059849% of the images classified correctly. Epoch loss= 1.1561188145976822\n",
            "Test: 60.396039603960396% of the images are classified correctly. Epoch loss = 1.0202707327631835\n",
            "Epoch number 20\n",
            "Train: 55.22305856434735% of the images classified correctly. Epoch loss= 1.1758084180640893\n",
            "Test: 61.386138613861384% of the images are classified correctly. Epoch loss = 0.9972129879218123\n",
            "Epoch number 21\n",
            "Train: 56.21442996144667% of the images classified correctly. Epoch loss= 1.1524765131691082\n",
            "Test: 57.26072607260726% of the images are classified correctly. Epoch loss = 1.0617087564059215\n",
            "Epoch number 22\n",
            "Train: 56.45309344593355% of the images classified correctly. Epoch loss= 1.146795431364342\n",
            "Test: 55.940594059405946% of the images are classified correctly. Epoch loss = 1.0846938658075365\n",
            "Epoch number 23\n",
            "Train: 56.85698549660364% of the images classified correctly. Epoch loss= 1.1459029163376704\n",
            "Test: 56.43564356435643% of the images are classified correctly. Epoch loss = 1.0894910451209192\n",
            "Epoch number 24\n",
            "Train: 56.3980172572058% of the images classified correctly. Epoch loss= 1.133069528009293\n",
            "Test: 57.42574257425742% of the images are classified correctly. Epoch loss = 1.023003620283045\n",
            "Done with training and testing..\n"
          ]
        }
      ],
      "source": [
        "resnet18_model= models.resnet18(pretrained=True)  \n",
        "input_ftrs= resnet18_model.fc.in_features\n",
        "num_classes= 4\n",
        "resnet18_model.fc= nn.Linear(input_ftrs, num_classes)\n",
        "resnet18_model= resnet18_model.to (device)\n",
        "\n",
        "loss_func_test= nn.CrossEntropyLoss()\n",
        "\n",
        "loss_func_train= nn.CrossEntropyLoss(weight= calculate_cls_weight(trainData))\n",
        "\n",
        "\n",
        "optimizer = optim.AdamW(resnet18_model.parameters(), lr=0.001)\n",
        "\n",
        "modelname='resnet18_preimagenet_ftcxr'\n",
        "epochs= 25\n",
        "model,_, _, _, train_loss, test_loss=train_nn(resnet18_model,\n",
        "                                              train_loader,test_loader,\n",
        "                                              loss_func_train,loss_func_test, optimizer,epochs, modelname)"
      ]
    },
    {
      "cell_type": "code",
      "execution_count": null,
      "id": "08501b82",
      "metadata": {
        "id": "08501b82",
        "outputId": "ca47a361-2b5d-4765-ddbc-2cd5be0b8f8a"
      },
      "outputs": [
        {
          "name": "stdout",
          "output_type": "stream",
          "text": [
            "Test: 61.88118811881188% of the images are classified correctly. Epoch loss = 1.0144223848191818\n"
          ]
        }
      ],
      "source": [
        "## Evaluate based on best model \n",
        "\n",
        "\n",
        "test_labels, pred_cls, pred_proba, _, _ =eval_best_model ('resnet18', 'resnet18_preimagenet_ftcxr.pth',\n",
        "                                                          num_classes ,loss_func_test,device)"
      ]
    },
    {
      "cell_type": "markdown",
      "id": "b614f7cc",
      "metadata": {
        "id": "b614f7cc"
      },
      "source": [
        "##### Confusion Matrix"
      ]
    },
    {
      "cell_type": "code",
      "execution_count": null,
      "id": "04ccb3f1",
      "metadata": {
        "id": "04ccb3f1",
        "outputId": "5d91f5fc-3936-499b-acf1-265c1481f132"
      },
      "outputs": [
        {
          "data": {
            "image/png": "[encoded data removed]",
            "text/plain": [
              "<Figure size 432x288 with 2 Axes>"
            ]
          },
          "metadata": {
            "needs_background": "light"
          },
          "output_type": "display_data"
        }
      ],
      "source": [
        "conf_mtrx (test_labels,pred_cls)"
      ]
    },
    {
      "cell_type": "markdown",
      "id": "02f74802",
      "metadata": {
        "id": "02f74802"
      },
      "source": [
        "#### Precision, Recall, & F1 score"
      ]
    },
    {
      "cell_type": "code",
      "execution_count": null,
      "id": "95565243",
      "metadata": {
        "id": "95565243",
        "outputId": "705a4bff-244f-450b-c801-c24789d6bf3b"
      },
      "outputs": [
        {
          "name": "stdout",
          "output_type": "stream",
          "text": [
            "               precision    recall  f1-score   support\n",
            "\n",
            "     Atypical       0.67      0.04      0.08        47\n",
            "Indeterminate       0.28      0.23      0.25       105\n",
            "     Negative       0.61      0.80      0.70       168\n",
            "      Typical       0.72      0.75      0.73       286\n",
            "\n",
            "     accuracy                           0.62       606\n",
            "    macro avg       0.57      0.46      0.44       606\n",
            " weighted avg       0.61      0.62      0.59       606\n",
            "\n"
          ]
        }
      ],
      "source": [
        "\"\"\"main\"\"\"\n",
        "evaluate_metrics (test_labels,pred_cls, target_names)"
      ]
    },
    {
      "cell_type": "markdown",
      "id": "9cccabe9",
      "metadata": {
        "id": "9cccabe9"
      },
      "source": [
        "#### AUC- ROC"
      ]
    },
    {
      "cell_type": "code",
      "execution_count": null,
      "id": "ae6919c9",
      "metadata": {
        "id": "ae6919c9",
        "outputId": "1aace393-dcff-4751-ff0b-68542633d441"
      },
      "outputs": [
        {
          "name": "stdout",
          "output_type": "stream",
          "text": [
            "AUC score of Class Atypical vs Rest ===> 0.6761694515281849\n",
            "AUC score of Class Indeterminate vs Rest ===> 0.6550708107594335\n",
            "AUC score of Class Negative vs Rest ===> 0.8773374646662317\n",
            "AUC score of Class Typical vs Rest ===> 0.8262674825174825\n"
          ]
        },
        {
          "data": {
            "image/png": "[encoded data removed]",
            "text/plain": [
              "<Figure size 432x288 with 1 Axes>"
            ]
          },
          "metadata": {
            "needs_background": "light"
          },
          "output_type": "display_data"
        }
      ],
      "source": [
        "ROC_plot_AUC_score (test_labels,pred_proba,len(data.classes))"
      ]
    },
    {
      "cell_type": "markdown",
      "id": "ad1ab4d7",
      "metadata": {
        "id": "ad1ab4d7"
      },
      "source": [
        "#### Learning Curve"
      ]
    },
    {
      "cell_type": "code",
      "execution_count": null,
      "id": "2349ad96",
      "metadata": {
        "id": "2349ad96",
        "outputId": "5c82ebdd-7b66-4790-ae38-fc9706548e49"
      },
      "outputs": [
        {
          "name": "stdout",
          "output_type": "stream",
          "text": [
            "test_loss: [1.8403727465336865, 1.1355920853001056, 1.3547494242293607, 1.1929136699575795, 1.1773378553957041, 1.1204020170488767, 1.2354716774654073, 1.2271187624128739, 1.0624218579172695, 1.0144223848191818, 1.0788806535229825, 1.0800989209228615, 1.0589621110324419, 1.1081082352710636, 1.0081675430335622, 1.0524783787554246, 1.0673946091050754, 1.0407731576327837, 1.0899014626399126, 1.0202707327631835, 0.9972129879218123, 1.0617087564059215, 1.0846938658075365, 1.0894910451209192, 1.023003620283045]\n"
          ]
        },
        {
          "data": {
            "image/png": "[encoded data removed]",
            "text/plain": [
              "<Figure size 432x288 with 1 Axes>"
            ]
          },
          "metadata": {
            "needs_background": "light"
          },
          "output_type": "display_data"
        }
      ],
      "source": [
        "x_epoch = 25\n",
        "plot_learning_curve(x_epoch, train_loss, test_loss)"
      ]
    }
  ],
  "metadata": {
    "kernelspec": {
      "display_name": "Python 3",
      "language": "python",
      "name": "python3"
    },
    "language_info": {
      "codemirror_mode": {
        "name": "ipython",
        "version": 3
      },
      "file_extension": ".py",
      "mimetype": "text/x-python",
      "name": "python",
      "nbconvert_exporter": "python",
      "pygments_lexer": "ipython3",
      "version": "3.8.8"
    },
    "colab": {
      "name": "Demo File.ipynb",
      "provenance": []
    }
  },
  "nbformat": 4,
  "nbformat_minor": 5
}